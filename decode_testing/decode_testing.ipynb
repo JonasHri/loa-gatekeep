{
 "cells": [
  {
   "cell_type": "code",
   "execution_count": 1,
   "metadata": {},
   "outputs": [],
   "source": [
    "def read_data(line):\n",
    "    with open(\"packet_dump.txt\", \"r\") as f:\n",
    "        data = eval(f.readlines()[line])\n",
    "\n",
    "    return data\n",
    "\n",
    "\n",
    "data_0 = read_data(0)\n",
    "data_0_info = {\"name\": \"Xcrona\", \"guild\": \"Lost Friends\", \"sh\": \"Hideout\"}\n",
    "data_1 = read_data(1)\n",
    "data_1_info = {\"name\": \"Amayakireena\", \"guild\": \"Mokoko Maniacs\", \"sh\": \"Kingsglaive\"}"
   ]
  },
  {
   "cell_type": "code",
   "execution_count": 2,
   "metadata": {},
   "outputs": [],
   "source": [
    "def bytes_to_utf16_char(byte1, byte2):\n",
    "    return (byte1 << 8) + byte2\n",
    "\n",
    "\n",
    "def find(data, info: dict):\n",
    "    base = \"\".join([chr(bytes_to_utf16_char(data[i], data[i + 1])) for i in range(0, len(data) - 1, 2)])\n",
    "    offset = \"\".join([chr(bytes_to_utf16_char(data[i], data[i + 1])) for i in range(1, len(data) - 1, 2)])\n",
    "    print(base)\n",
    "    for key, val in info.items():\n",
    "        loc = base.find(val)\n",
    "        if loc >= 0:\n",
    "            print(\"base\", loc, key, base[loc : loc + len(val)])\n",
    "            # print(\"pre: \", data[loc * 2])\n",
    "        else:\n",
    "            loc = offset.find(val)\n",
    "            print(\"offs\", loc, key, offset[loc : loc + len(val)])\n",
    "            # print(\"pre: \", data[loc * 2 + 1])\n",
    "\n",
    "\n",
    "print(\"align location  result\")\n",
    "print(\"-\" * 30)\n",
    "find(data_0, data_0_info)\n",
    "find(data_1, data_1_info)"
   ]
  }
 ],
 "metadata": {
  "kernelspec": {
   "display_name": "base",
   "language": "python",
   "name": "python3"
  },
  "language_info": {
   "codemirror_mode": {
    "name": "ipython",
    "version": 3
   },
   "file_extension": ".py",
   "mimetype": "text/x-python",
   "name": "python",
   "nbconvert_exporter": "python",
   "pygments_lexer": "ipython3",
   "version": "3.11.4"
  }
 },
 "nbformat": 4,
 "nbformat_minor": 2
}
